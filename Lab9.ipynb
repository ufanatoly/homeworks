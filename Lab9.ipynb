{
 "cells": [
  {
   "cell_type": "markdown",
   "metadata": {},
   "source": [
    "# ЛР № 9 Основы парсинга и работы с API"
   ]
  },
  {
   "cell_type": "markdown",
   "metadata": {},
   "source": [
    "## Задание"
   ]
  },
  {
   "cell_type": "code",
   "execution_count": 1,
   "metadata": {},
   "outputs": [],
   "source": [
    "import requests\n",
    "from bs4 import BeautifulSoup\n",
    "import pandas as pd"
   ]
  },
  {
   "cell_type": "code",
   "execution_count": 2,
   "metadata": {},
   "outputs": [],
   "source": [
    "req = requests.get('https://habr.com/ru/all/')\n",
    "soup = BeautifulSoup(req.text, 'html.parser')\n",
    "posts = soup.find_all('article', class_='post')\n",
    "KEYWORDS = ['python', 'парсинг']\n",
    "result = pd.DataFrame(columns=('title', 'link', 'text'))"
   ]
  },
  {
   "cell_type": "code",
   "execution_count": 3,
   "metadata": {},
   "outputs": [],
   "source": [
    "for post in posts:\n",
    "    url = post.h2.a['href']\n",
    "    reqson = requests.get(url)\n",
    "    soupson = BeautifulSoup(reqson.text, 'html.parser')\n",
    "    postson = soupson.find('div', class_='post__text')\n",
    "    txt = postson.get_text()\n",
    "    for kw in KEYWORDS:\n",
    "        if kw in txt:\n",
    "            result.loc[post.find('span', class_='post__time').get_text()] = [post.h2.a.get_text(), url, txt]"
   ]
  },
  {
   "cell_type": "code",
   "execution_count": 4,
   "metadata": {},
   "outputs": [
    {
     "data": {
      "text/html": [
       "<div>\n",
       "<style scoped>\n",
       "    .dataframe tbody tr th:only-of-type {\n",
       "        vertical-align: middle;\n",
       "    }\n",
       "\n",
       "    .dataframe tbody tr th {\n",
       "        vertical-align: top;\n",
       "    }\n",
       "\n",
       "    .dataframe thead th {\n",
       "        text-align: right;\n",
       "    }\n",
       "</style>\n",
       "<table border=\"1\" class=\"dataframe\">\n",
       "  <thead>\n",
       "    <tr style=\"text-align: right;\">\n",
       "      <th></th>\n",
       "      <th>title</th>\n",
       "      <th>link</th>\n",
       "      <th>text</th>\n",
       "    </tr>\n",
       "  </thead>\n",
       "  <tbody>\n",
       "    <tr>\n",
       "      <th>сегодня в 17:02</th>\n",
       "      <td>Внедряем оплату BTC куда угодно (Python)</td>\n",
       "      <td>https://habr.com/ru/post/525638/</td>\n",
       "      <td>ПредысторияПолгода назад взялся за один проект...</td>\n",
       "    </tr>\n",
       "    <tr>\n",
       "      <th>сегодня в 16:54</th>\n",
       "      <td>Делаем поиск в веб-приложении с нуля</td>\n",
       "      <td>https://habr.com/ru/company/joom/blog/526550/</td>\n",
       "      <td>В статье «Делаем современное веб-приложение с ...</td>\n",
       "    </tr>\n",
       "    <tr>\n",
       "      <th>сегодня в 14:40</th>\n",
       "      <td>Мелкая питонячая радость #12: вирусы и зловред...</td>\n",
       "      <td>https://habr.com/ru/post/526438/</td>\n",
       "      <td>В мире  существует много явлений с сомнительно...</td>\n",
       "    </tr>\n",
       "  </tbody>\n",
       "</table>\n",
       "</div>"
      ],
      "text/plain": [
       "                                                             title  \\\n",
       "сегодня в 17:02           Внедряем оплату BTC куда угодно (Python)   \n",
       "сегодня в 16:54               Делаем поиск в веб-приложении с нуля   \n",
       "сегодня в 14:40  Мелкая питонячая радость #12: вирусы и зловред...   \n",
       "\n",
       "                                                          link  \\\n",
       "сегодня в 17:02               https://habr.com/ru/post/525638/   \n",
       "сегодня в 16:54  https://habr.com/ru/company/joom/blog/526550/   \n",
       "сегодня в 14:40               https://habr.com/ru/post/526438/   \n",
       "\n",
       "                                                              text  \n",
       "сегодня в 17:02  ПредысторияПолгода назад взялся за один проект...  \n",
       "сегодня в 16:54  В статье «Делаем современное веб-приложение с ...  \n",
       "сегодня в 14:40  В мире  существует много явлений с сомнительно...  "
      ]
     },
     "execution_count": 4,
     "metadata": {},
     "output_type": "execute_result"
    }
   ],
   "source": [
    "result"
   ]
  }
 ],
 "metadata": {
  "kernelspec": {
   "display_name": "Python 3",
   "language": "python",
   "name": "python3"
  },
  "language_info": {
   "codemirror_mode": {
    "name": "ipython",
    "version": 3
   },
   "file_extension": ".py",
   "mimetype": "text/x-python",
   "name": "python",
   "nbconvert_exporter": "python",
   "pygments_lexer": "ipython3",
   "version": "3.8.3"
  }
 },
 "nbformat": 4,
 "nbformat_minor": 4
}
