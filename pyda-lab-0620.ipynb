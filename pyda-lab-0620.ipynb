{
 "cells": [
  {
   "cell_type": "markdown",
   "metadata": {},
   "source": [
    "## Лабораторная работа по курсу «Python для анализа данных»"
   ]
  },
  {
   "cell_type": "markdown",
   "metadata": {},
   "source": [
    "### При выполнении работы допускается использование любых внешних модулей и пакетов."
   ]
  },
  {
   "cell_type": "markdown",
   "metadata": {},
   "source": [
    "#### Задача 1"
   ]
  },
  {
   "cell_type": "markdown",
   "metadata": {},
   "source": [
    "Дана строка:"
   ]
  },
  {
   "cell_type": "code",
   "execution_count": 89,
   "metadata": {},
   "outputs": [],
   "source": [
    "string_01 = \"History is always written by the winners. When two cultures clash, the loser is obliterated, and the winner writes the history books - books which glorify their own cause and disparage the conquered foe. As Napoleon once said, 'What is history, but a fable agreed upon?'\""
   ]
  },
  {
   "cell_type": "markdown",
   "metadata": {},
   "source": [
    "1. Посчитайте, сколько в строке символов, исключая пробелы:"
   ]
  },
  {
   "cell_type": "code",
   "execution_count": 243,
   "metadata": {},
   "outputs": [
    {
     "name": "stdout",
     "output_type": "stream",
     "text": [
      "225\n"
     ]
    }
   ],
   "source": [
    "k = 0\n",
    "for letter in string_01:\n",
    "    if (letter != \" \"):\n",
    "        k = k + 1\n",
    "print (k)\n"
   ]
  },
  {
   "cell_type": "markdown",
   "metadata": {},
   "source": [
    "2. Посчитайте, сколько в строке слов."
   ]
  },
  {
   "cell_type": "code",
   "execution_count": 278,
   "metadata": {},
   "outputs": [
    {
     "name": "stdout",
     "output_type": "stream",
     "text": [
      "45\n"
     ]
    }
   ],
   "source": [
    "k = 0\n",
    "for letter in string_01:\n",
    "    if (letter == \" \"):\n",
    "        k = k + 1\n",
    "    if (letter == \"-\"):\n",
    "        k = k - 1\n",
    "k += 1\n",
    "#после последнего слова нет пробела\n",
    "print (k)"
   ]
  },
  {
   "cell_type": "markdown",
   "metadata": {},
   "source": [
    "3. Напишите функцию, которая будет принимать в качестве аргумента букву и выводить все слова из строки, начинающиеся на эту букву (например, “w”)."
   ]
  },
  {
   "cell_type": "code",
   "execution_count": 112,
   "metadata": {},
   "outputs": [
    {
     "name": "stdout",
     "output_type": "stream",
     "text": [
      "Введите букву (строчную)\n",
      "u\n",
      "u\n",
      "p\n",
      "o\n",
      "n\n",
      " \n",
      "\n"
     ]
    }
   ],
   "source": [
    "k = 0\n",
    "print (\"Введите букву (строчную)\")\n",
    "let = input()\n",
    "letBig = let.capitalize()\n",
    "#print (let, letBig)\n",
    "\n",
    "if (string_01[k] == letBig):\n",
    "    while (string_01[k] != \" \"):\n",
    "        if ((string_01[k] != \".\") and (string_01[k] != \",\") and (string_01[k] != \"?\")):\n",
    "            print (string_01[k])\n",
    "        k = k + 1\n",
    "k = 1\n",
    "l = len(string_01)\n",
    "while k != l :\n",
    "    if ((string_01[k] == let) or (string_01[k] == letBig)):\n",
    "        if ((string_01[k-1] == \" \") or (string_01[k-1] == \"'\")):\n",
    "            while ((string_01[k] != \" \") and (string_01[k] != \"'\")):\n",
    "                if ((string_01[k] != \".\") and (string_01[k] != \",\") and (string_01[k] != \"?\")):\n",
    "                    print (string_01[k])\n",
    "                k = k + 1\n",
    "            print(\" \")\n",
    "        else: k = k + 1\n",
    "    else: k = k + 1\n",
    "print(\"\")\n",
    "     "
   ]
  },
  {
   "cell_type": "markdown",
   "metadata": {},
   "source": [
    "Задача 2"
   ]
  },
  {
   "cell_type": "markdown",
   "metadata": {},
   "source": [
    "Напишите код, который будет генерировать случайную последовательность из 6 цифр, одна из которых должна быть 3. Позиция цифры 3 должна\n",
    "определяться случайным образом. Результат должен быть строкой. Например: \"456309\" или \"330127\"."
   ]
  },
  {
   "cell_type": "markdown",
   "metadata": {},
   "source": [
    "#### Задача 3"
   ]
  },
  {
   "cell_type": "code",
   "execution_count": 70,
   "metadata": {},
   "outputs": [],
   "source": [
    "import random"
   ]
  },
  {
   "cell_type": "code",
   "execution_count": 206,
   "metadata": {},
   "outputs": [
    {
     "name": "stdout",
     "output_type": "stream",
     "text": [
      "Позиция тройки в строке 6\n",
      "016783\n"
     ]
    }
   ],
   "source": [
    "k = 0\n",
    "t = [0, 0, 0, 0, 0, 0]\n",
    "pos = random.randint(0, 5)\n",
    "print ('Позиция тройки в строке', pos + 1 )\n",
    "t[pos] = 3\n",
    "while k!= 6:\n",
    "    if k != pos:\n",
    "        while (True):\n",
    "            t[k] = random.randint(0,9)\n",
    "            if t[k] == 3:\n",
    "                continue\n",
    "            else:\n",
    "                break\n",
    "    k = k + 1\n",
    "y = ''.join(str(e) for e in t) \n",
    "\n",
    "print (y)\n",
    "\n"
   ]
  },
  {
   "cell_type": "markdown",
   "metadata": {},
   "source": [
    "Дан список:"
   ]
  },
  {
   "cell_type": "markdown",
   "metadata": {},
   "source": [
    "Напишите алгоритм, который выводит число, равное сумме элементов списка, которые больше 10, но меньше 100, и которые больше 200, но меньше 500."
   ]
  },
  {
   "cell_type": "code",
   "execution_count": 207,
   "metadata": {},
   "outputs": [],
   "source": [
    "list_01 = [1, 1, 2, 3, 5, 8, 13, 21, 34, 55, 89, 144, 233, 377, 610, 14, 46, 273, 22, 99, 15, 1000]"
   ]
  },
  {
   "cell_type": "code",
   "execution_count": 213,
   "metadata": {},
   "outputs": [
    {
     "name": "stdout",
     "output_type": "stream",
     "text": [
      "Cумма 22 элементов = 1291\n"
     ]
    }
   ],
   "source": [
    "lenght = len(list_01)\n",
    "sum = 0\n",
    "k = 0\n",
    "while k!= lenght:\n",
    "    if (((list_01[k]>10) and (list_01[k]<=100)) or ((list_01[k]>200) and (list_01[k]<=500))):\n",
    "        sum = sum + list_01[k]\n",
    "    k = k + 1\n",
    "print('Cумма', k, 'элементов =', sum)\n"
   ]
  },
  {
   "cell_type": "markdown",
   "metadata": {},
   "source": [
    "#### Задача 4"
   ]
  },
  {
   "cell_type": "markdown",
   "metadata": {},
   "source": [
    "Данные студентов представлены в виде списка списков:"
   ]
  },
  {
   "cell_type": "code",
   "execution_count": 214,
   "metadata": {},
   "outputs": [],
   "source": [
    "students = [\n",
    "[\"0001\", \"Антонов\", \"Антон\", \"Игоревич\", \"20.08.2009\",\"БСТ161\"],\n",
    "[\"1102\", \"Богов\", \"Артем\", \"Игоревич\", \"25.01.2010\",\"БСТ162\"],\n",
    "[\"0333\", \"Глаголева\", \"Анастасия\", \"Николаевна\", \"11.07.2009\", \"БСТ163\"],\n",
    "[\"4004\", \"Степанова\", \"Наталья\", \"Александровна\", \"13.02.2008\", \"БСТ161\"],\n",
    "[\"0045\", \"Боков\", \"Игорь\", \"Харитонович\", \"02.06.2009\", \"БСТ161\"],\n",
    "[\"0096\", \"Васильков\", \"Валентин\", \"Сергеевич\", \"20.03.2009\", \"БСТ164\"],\n",
    "[\"0607\", \"Сиропова\", \"Виолетта\", \"Эдуардовна\", \"28.05.2010\", \"БСТ162\"]\n",
    "    ]"
   ]
  },
  {
   "cell_type": "markdown",
   "metadata": {},
   "source": [
    "1. Преобразуйте данные таким образом, чтобы они были представлены в виде словаря, в котором ключами являются номера студентов, а значениями — список из других данных о студентах."
   ]
  },
  {
   "cell_type": "code",
   "execution_count": 225,
   "metadata": {},
   "outputs": [],
   "source": [
    "students2 = {\n",
    "\"0001\": [\"Антонов\", \"Антон\", \"Игоревич\", \"20.08.2009\",\"БСТ161\"],\n",
    "\"1102\": [\"Богов\", \"Артем\", \"Игоревич\", \"25.01.2010\",\"БСТ162\"],\n",
    "\"0333\": [\"Глаголева\", \"Анастасия\", \"Николаевна\", \"11.07.2009\", \"БСТ163\"],\n",
    "\"4004\": [\"Степанова\", \"Наталья\", \"Александровна\", \"13.02.2008\", \"БСТ161\"],\n",
    "\"0045\": [\"Боков\", \"Игорь\", \"Харитонович\", \"02.06.2009\", \"БСТ161\"],\n",
    "\"0096\": [\"Васильков\", \"Валентин\", \"Сергеевич\", \"20.03.2009\", \"БСТ164\"],\n",
    "\"0607\": [\"Сиропова\", \"Виолетта\", \"Эдуардовна\", \"28.05.2010\", \"БСТ162\"]\n",
    "}"
   ]
  },
  {
   "cell_type": "markdown",
   "metadata": {},
   "source": [
    "2. Напишите функцию, которая принимает в качестве аргумента номер студента и новый номер группы и позволяет изменить номер группы этого студента на новый внутри созданного словаря."
   ]
  },
  {
   "cell_type": "code",
   "execution_count": 229,
   "metadata": {},
   "outputs": [
    {
     "name": "stdout",
     "output_type": "stream",
     "text": [
      "Введите номер студента\n",
      "0001\n",
      "['Антонов', 'Антон', 'Игоревич', '20.08.2009', 'dfdfg']\n",
      "Введите номер новой группы\n",
      "БСТ161\n",
      "['Антонов', 'Антон', 'Игоревич', '20.08.2009', 'БСТ161']\n"
     ]
    }
   ],
   "source": [
    "print(\"Введите номер студента\")\n",
    "name = input()\n",
    "print (students2[name])\n",
    "print (\"Введите номер новой группы\")\n",
    "gruppa = input()\n",
    "students2[name][4] = gruppa\n",
    "print (students2[name])"
   ]
  },
  {
   "cell_type": "markdown",
   "metadata": {},
   "source": [
    "3. Напишите функцию, которая принимает номер группы и выводит список (фамилии, имена, отчества) всех студентов этой группы. Необходимо обращаться к словарю."
   ]
  },
  {
   "cell_type": "code",
   "execution_count": 274,
   "metadata": {},
   "outputs": [
    {
     "name": "stdout",
     "output_type": "stream",
     "text": [
      "Введите номер группы\n",
      "БСТ161\n",
      "Антонов Антон Игоревич\n",
      "Степанова Наталья Александровна\n",
      "Боков Игорь Харитонович\n"
     ]
    }
   ],
   "source": [
    "print (\"Введите номер группы\")\n",
    "gruppa = input()\n",
    "for key, value in students2.items():\n",
    "    if value[4] == gruppa:\n",
    "        print (value[0], value[1], value[2])"
   ]
  },
  {
   "cell_type": "markdown",
   "metadata": {},
   "source": [
    "#### Задача 5"
   ]
  },
  {
   "cell_type": "markdown",
   "metadata": {},
   "source": [
    "Дана матрица:"
   ]
  },
  {
   "cell_type": "code",
   "execution_count": 269,
   "metadata": {},
   "outputs": [],
   "source": [
    "matrix = [ \n",
    "    [0,1,2,4,8], \n",
    "    [6,2,2,1,9], \n",
    "    [3,3,3,3,3], \n",
    "    [4,6,7,1,2], \n",
    "    [5,7,3,4,0] \n",
    "]"
   ]
  },
  {
   "cell_type": "markdown",
   "metadata": {},
   "source": [
    "1. Выведите результат сложения всех элементов матрицы."
   ]
  },
  {
   "cell_type": "code",
   "execution_count": 277,
   "metadata": {},
   "outputs": [
    {
     "name": "stdout",
     "output_type": "stream",
     "text": [
      "89\n"
     ]
    }
   ],
   "source": [
    "summa = 0\n",
    "i = 0\n",
    "j = 0\n",
    "while (i != 5):\n",
    "    j = 0\n",
    "    while (j !=5):\n",
    "        summa += matrix[i][j]\n",
    "        j = j + 1\n",
    "    i = i + 1\n",
    "print(summa)"
   ]
  },
  {
   "cell_type": "markdown",
   "metadata": {},
   "source": [
    "2. Напишите алгоритм вычисления максимума из сумм элементов каждого столбца."
   ]
  },
  {
   "cell_type": "code",
   "execution_count": 276,
   "metadata": {},
   "outputs": [
    {
     "name": "stdout",
     "output_type": "stream",
     "text": [
      "22\n"
     ]
    }
   ],
   "source": [
    "i = 0\n",
    "j = 0\n",
    "s = [0, 0, 0, 0, 0]\n",
    "while (j != 5):\n",
    "    i = 0\n",
    "    while (i!=5):\n",
    "        s[j]+= matrix[i][j]\n",
    "        i = i + 1\n",
    "    j = j + 1\n",
    "print (max(s))\n",
    "        \n",
    "        "
   ]
  },
  {
   "cell_type": "code",
   "execution_count": null,
   "metadata": {},
   "outputs": [],
   "source": []
  }
 ],
 "metadata": {
  "kernelspec": {
   "display_name": "Python 3",
   "language": "python",
   "name": "python3"
  },
  "language_info": {
   "codemirror_mode": {
    "name": "ipython",
    "version": 3
   },
   "file_extension": ".py",
   "mimetype": "text/x-python",
   "name": "python",
   "nbconvert_exporter": "python",
   "pygments_lexer": "ipython3",
   "version": "3.8.3"
  }
 },
 "nbformat": 4,
 "nbformat_minor": 2
}
