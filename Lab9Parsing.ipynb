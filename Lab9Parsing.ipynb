{
 "cells": [
  {
   "cell_type": "markdown",
   "metadata": {},
   "source": [
    "Задание 1 \n",
    "Вам необходимо собирать только те статьи, в которых встречается хотя бы одно требуемое ключевое слово. Эти слова определяем в начале кода в переменной, например:\n",
    "\n",
    "KEYWORDS = ['python', 'парсинг']\n",
    "\n",
    "Поиск вести по всей доступной preview-информации (это информация, доступная непосредственно с текущей страницы).\n",
    "\n",
    "В итоге должен формироваться датафрейм вида: <дата> - <заголовок> - <ссылка>"
   ]
  },
  {
   "cell_type": "code",
   "execution_count": 1,
   "metadata": {},
   "outputs": [],
   "source": [
    "import requests\n",
    "from bs4 import BeautifulSoup\n",
    "import pandas as pd"
   ]
  },
  {
   "cell_type": "code",
   "execution_count": 5,
   "metadata": {},
   "outputs": [],
   "source": [
    "req = requests.get('https://habr.com/ru/all/')\n",
    "soup = BeautifulSoup(req.text, 'html.parser')\n",
    "posts = soup.find_all('article', class_='post')\n",
    "KEYWORDS = ['python', 'парсинг','игры']\n",
    "result = pd.DataFrame(columns=('Заголовок', 'ссылка', 'текст'))"
   ]
  },
  {
   "cell_type": "code",
   "execution_count": 3,
   "metadata": {},
   "outputs": [],
   "source": [
    "for post in posts:\n",
    "    url = post.h2.a['href']\n",
    "    reqson = requests.get(url)\n",
    "    soupson = BeautifulSoup(reqson.text, 'html.parser')\n",
    "    postson = soupson.find('div', class_='post__text')\n",
    "    txt = postson.get_text()\n",
    "    for kw in KEYWORDS:\n",
    "        if kw in txt:\n",
    "            result.loc[post.find('span', class_='post__time').get_text()] = [post.h2.a.get_text(), url, txt]"
   ]
  },
  {
   "cell_type": "code",
   "execution_count": 4,
   "metadata": {},
   "outputs": [
    {
     "data": {
      "text/html": [
       "<div>\n",
       "<style scoped>\n",
       "    .dataframe tbody tr th:only-of-type {\n",
       "        vertical-align: middle;\n",
       "    }\n",
       "\n",
       "    .dataframe tbody tr th {\n",
       "        vertical-align: top;\n",
       "    }\n",
       "\n",
       "    .dataframe thead th {\n",
       "        text-align: right;\n",
       "    }\n",
       "</style>\n",
       "<table border=\"1\" class=\"dataframe\">\n",
       "  <thead>\n",
       "    <tr style=\"text-align: right;\">\n",
       "      <th></th>\n",
       "      <th>title</th>\n",
       "      <th>link</th>\n",
       "      <th>text</th>\n",
       "    </tr>\n",
       "  </thead>\n",
       "  <tbody>\n",
       "    <tr>\n",
       "      <th>сегодня в 17:45</th>\n",
       "      <td>Анализ данных Twitter для ленивых в Elastic St...</td>\n",
       "      <td>https://habr.com/ru/company/otus/blog/529452/</td>\n",
       "      <td>В преддверии супер-интенсива \"ELK\" подготовили...</td>\n",
       "    </tr>\n",
       "    <tr>\n",
       "      <th>сегодня в 17:06</th>\n",
       "      <td>Как QA найти «ту самую» компанию и стать тимлидом</td>\n",
       "      <td>https://habr.com/ru/company/headzio/blog/529384/</td>\n",
       "      <td>Как QA (и не только) найти компанию по душе, к...</td>\n",
       "    </tr>\n",
       "    <tr>\n",
       "      <th>сегодня в 16:15</th>\n",
       "      <td>Raspberry Pi и RetroPie: делаем консоль для ре...</td>\n",
       "      <td>https://habr.com/ru/company/ruvds/blog/528426/</td>\n",
       "      <td>Для того чтобы создать собственную консоль для...</td>\n",
       "    </tr>\n",
       "    <tr>\n",
       "      <th>сегодня в 15:54</th>\n",
       "      <td>Math Invasion. Мой долгострой</td>\n",
       "      <td>https://habr.com/ru/post/529446/</td>\n",
       "      <td>Привет, народ!\\n\\r\\nРасскажу я вам свою истори...</td>\n",
       "    </tr>\n",
       "  </tbody>\n",
       "</table>\n",
       "</div>"
      ],
      "text/plain": [
       "                                                             title  \\\n",
       "сегодня в 17:45  Анализ данных Twitter для ленивых в Elastic St...   \n",
       "сегодня в 17:06  Как QA найти «ту самую» компанию и стать тимлидом   \n",
       "сегодня в 16:15  Raspberry Pi и RetroPie: делаем консоль для ре...   \n",
       "сегодня в 15:54                      Math Invasion. Мой долгострой   \n",
       "\n",
       "                                                             link  \\\n",
       "сегодня в 17:45     https://habr.com/ru/company/otus/blog/529452/   \n",
       "сегодня в 17:06  https://habr.com/ru/company/headzio/blog/529384/   \n",
       "сегодня в 16:15    https://habr.com/ru/company/ruvds/blog/528426/   \n",
       "сегодня в 15:54                  https://habr.com/ru/post/529446/   \n",
       "\n",
       "                                                              text  \n",
       "сегодня в 17:45  В преддверии супер-интенсива \"ELK\" подготовили...  \n",
       "сегодня в 17:06  Как QA (и не только) найти компанию по душе, к...  \n",
       "сегодня в 16:15  Для того чтобы создать собственную консоль для...  \n",
       "сегодня в 15:54  Привет, народ!\\n\\r\\nРасскажу я вам свою истори...  "
      ]
     },
     "execution_count": 4,
     "metadata": {},
     "output_type": "execute_result"
    }
   ],
   "source": [
    "result"
   ]
  },
  {
   "cell_type": "code",
   "execution_count": null,
   "metadata": {},
   "outputs": [],
   "source": []
  },
  {
   "cell_type": "code",
   "execution_count": null,
   "metadata": {},
   "outputs": [],
   "source": []
  },
  {
   "cell_type": "code",
   "execution_count": null,
   "metadata": {},
   "outputs": [],
   "source": []
  }
 ],
 "metadata": {
  "kernelspec": {
   "display_name": "Python 3",
   "language": "python",
   "name": "python3"
  },
  "language_info": {
   "codemirror_mode": {
    "name": "ipython",
    "version": 3
   },
   "file_extension": ".py",
   "mimetype": "text/x-python",
   "name": "python",
   "nbconvert_exporter": "python",
   "pygments_lexer": "ipython3",
   "version": "3.8.3"
  }
 },
 "nbformat": 4,
 "nbformat_minor": 4
}
