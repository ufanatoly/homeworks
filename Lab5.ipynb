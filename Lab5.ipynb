{
 "cells": [
  {
   "cell_type": "markdown",
   "metadata": {},
   "source": [
    "**Задание 1**\n",
    "\n",
    "Напишите функцию, которая возвращает название валюты (поле ‘Name’) с максимальным значением курса с помощью сервиса https://www.cbr-xml-daily.ru/daily_json.js"
   ]
  },
  {
   "cell_type": "code",
   "execution_count": 30,
   "metadata": {},
   "outputs": [],
   "source": [
    "import requests\n",
    "class Rate:\n",
    "    \"\"\"\n",
    "    \n",
    "    \"\"\"\n",
    "    def __init__(self, format_='value', diff_ = False):\n",
    "        self.format = format_\n",
    "        self.diff = diff_\n",
    "    \n",
    "    def exchange_rates(self):\n",
    "        \"\"\"\n",
    "        Возвращает ответ сервиса с информацией о валютах в виде:\n",
    "        \n",
    "        {\n",
    "            'AMD': {\n",
    "                'CharCode': 'AMD',\n",
    "                'ID': 'R01060',\n",
    "                'Name': 'Армянских драмов',\n",
    "                'Nominal': 100,\n",
    "                'NumCode': '051',\n",
    "                'Previous': 14.103,\n",
    "                'Value': 14.0879\n",
    "                },\n",
    "            ...\n",
    "        }\n",
    "        \"\"\"\n",
    "        self.r = requests.get('https://www.cbr-xml-daily.ru/daily_json.js')\n",
    "        return self.r.json()['Valute']\n",
    "    \n",
    "    def make_format(self, currency):\n",
    "        \"\"\"\n",
    "        Возвращает информацию о валюте currency в двух вариантах:\n",
    "        - полная информация о валюте при self.format = 'full':\n",
    "        Rate('full').make_format('EUR')\n",
    "        {\n",
    "            'CharCode': 'EUR',\n",
    "            'ID': 'R01239',\n",
    "            'Name': 'Евро',\n",
    "            'Nominal': 1,\n",
    "            'NumCode': '978',\n",
    "            'Previous': 79.6765,\n",
    "            'Value': 79.4966\n",
    "        }\n",
    "        \n",
    "        Rate('value').make_format('EUR')\n",
    "        79.4966\n",
    "        \"\"\"\n",
    "        response = self.exchange_rates()\n",
    "        \n",
    "        if currency in response:\n",
    "            if self.format == 'full':\n",
    "                return response[currency]\n",
    "            \n",
    "            if self.format == 'value':\n",
    "                if self.diff == True:\n",
    "                    return abs(response[currency]['Value']-response[currency]['Previous']) \n",
    "                if self.diff == False:\n",
    "                    return response[currency]['Value']\n",
    "        \n",
    "        return 'Error'\n",
    "    \n",
    "    def eur(self):\n",
    "        \"\"\"Возвращает курс евро на сегодня в формате self.format\"\"\"\n",
    "        return self.make_format('EUR')\n",
    "    \n",
    "    def usd(self):\n",
    "        \"\"\"Возвращает курс доллара на сегодня в формате self.format\"\"\"\n",
    "        return self.make_format('USD')\n",
    "    \n",
    "    def brl(self):\n",
    "        \"\"\"Возвращает курс бразильского реала на сегодня в формате self.format\"\"\"\n",
    "        return self.make_format('BRL')\n",
    "    \n",
    "    def max_kurs(self):\n",
    "        d = self.exchange_rates()\n",
    "        spisok = []\n",
    "        for i in d:\n",
    "            spisok.append([d[i]['Value']/d[i]['Nominal'], d[i]['Name']])\n",
    "        return (max(spisok))\n",
    "    "
   ]
  },
  {
   "cell_type": "code",
   "execution_count": 24,
   "metadata": {},
   "outputs": [
    {
     "data": {
      "text/plain": [
       "[108.7733, 'СДР (специальные права заимствования)']"
      ]
     },
     "execution_count": 24,
     "metadata": {},
     "output_type": "execute_result"
    }
   ],
   "source": [
    "r = Rate()\n",
    "r.max_kurs()"
   ]
  },
  {
   "cell_type": "markdown",
   "metadata": {},
   "source": [
    "**Задание 2**\n",
    "\n",
    "Добавьте в класс Rate параметр diff (со значениями True или False), который в случае значения True в методах курсов валют (eur, usd итд) будет возвращать не курс валюты, а изменение по сравнению в прошлым значением. Считайте, self.diff будет принимать значение True только при возврате значения курса. При отображении всей информации о валюте он не используется."
   ]
  },
  {
   "cell_type": "code",
   "execution_count": 31,
   "metadata": {},
   "outputs": [
    {
     "data": {
      "text/plain": [
       "1.7065000000000055"
      ]
     },
     "execution_count": 31,
     "metadata": {},
     "output_type": "execute_result"
    }
   ],
   "source": [
    "s = Rate(format_='value', diff_ = True)\n",
    "s.eur()"
   ]
  },
  {
   "cell_type": "markdown",
   "metadata": {},
   "source": [
    "**Задание 3**\n",
    "\n",
    "Напишите класс Designer, который учитывает количество международных премий для дизайнеров (из презентации: \"Повышение на 1 грейд за каждые 7 баллов. Получение международной премии – это +2 балла\" для каждой аккредитации увеличиваем счетчик на 1, пока считаем, что все дизайнеры проходят аккредитацию). Считайте, что при выходе на работу сотрудник уже имеет две премии и их количество меняется со стажем (получение премии генератор случайных чисел ). Выполните проверку для 20 аккредитаций дизайнера Елены. Подсказки в коде занятия в разделе “Домашнее задание задача 3”."
   ]
  },
  {
   "cell_type": "code",
   "execution_count": 92,
   "metadata": {},
   "outputs": [],
   "source": [
    "class Employee:\n",
    "    def __init__(self, name, seniority):\n",
    "        self.name = name\n",
    "        self.seniority = seniority\n",
    "        \n",
    "        self.grade = 1\n",
    "        self.sen = 0\n",
    "    \n",
    "    def grade_up(self, sen):\n",
    "        \"\"\"Повышает уровень сотрудника\"\"\"\n",
    "        self.grade += sen\n",
    "        \n",
    "    \n",
    "    def publish_grade(self):\n",
    "        \"\"\"Публикация результатов аккредитации сотрудников\"\"\"\n",
    "        print(self.name, self.grade)\n",
    "    \n",
    "    def check_if_it_is_time_for_upgrade(self):\n",
    "        pass"
   ]
  },
  {
   "cell_type": "code",
   "execution_count": 93,
   "metadata": {},
   "outputs": [],
   "source": [
    "import random\n",
    "class Designer(Employee):\n",
    "    def __init__(self, name, seniority = 0, awards = 2):\n",
    "        super().__init__(name, seniority)\n",
    "        self.awards = awards\n",
    "        self.seniority += awards * 2\n",
    "    \n",
    "    def check_if_it_is_time_for_upgrade(self):\n",
    "        # для каждой аккредитации увеличиваем счетчик на 1\n",
    "        # пока считаем, что все разработчики проходят аккредитацию\n",
    "        self.seniority += 1\n",
    "        a = random.randint(0, 1)\n",
    "        if a == 1:\n",
    "            self.seniority += 2\n",
    "                \n",
    "            \n",
    "        # условие повышения сотрудника из презентации\n",
    "        ##if self.seniority % 7 == 0:\n",
    "        sen = self.seniority // 7\n",
    "        self.seniority = self.seniority % 7\n",
    "        self.grade_up(sen)\n",
    "        \n",
    "        # публикация результатов\n",
    "        return self.publish_grade()"
   ]
  },
  {
   "cell_type": "code",
   "execution_count": 111,
   "metadata": {},
   "outputs": [
    {
     "name": "stdout",
     "output_type": "stream",
     "text": [
      "Елена 1\n",
      "Елена 2\n",
      "Елена 2\n",
      "Елена 3\n",
      "Елена 3\n",
      "Елена 3\n",
      "Елена 4\n",
      "Елена 4\n",
      "Елена 4\n",
      "Елена 5\n",
      "Елена 5\n",
      "Елена 5\n",
      "Елена 5\n",
      "Елена 6\n",
      "Елена 6\n",
      "Елена 7\n",
      "Елена 7\n",
      "Елена 7\n",
      "Елена 8\n",
      "Елена 8\n"
     ]
    }
   ],
   "source": [
    "elena = Designer('Елена', seniority=0, awards=2)\n",
    "for i in range(20):\n",
    "    elena.check_if_it_is_time_for_upgrade()"
   ]
  },
  {
   "cell_type": "code",
   "execution_count": null,
   "metadata": {},
   "outputs": [],
   "source": []
  },
  {
   "cell_type": "code",
   "execution_count": null,
   "metadata": {},
   "outputs": [],
   "source": []
  }
 ],
 "metadata": {
  "kernelspec": {
   "display_name": "Python 3",
   "language": "python",
   "name": "python3"
  },
  "language_info": {
   "codemirror_mode": {
    "name": "ipython",
    "version": 3
   },
   "file_extension": ".py",
   "mimetype": "text/x-python",
   "name": "python",
   "nbconvert_exporter": "python",
   "pygments_lexer": "ipython3",
   "version": "3.8.3"
  }
 },
 "nbformat": 4,
 "nbformat_minor": 4
}
